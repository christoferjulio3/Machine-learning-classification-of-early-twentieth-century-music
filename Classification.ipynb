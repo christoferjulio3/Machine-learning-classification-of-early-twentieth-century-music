{
  "nbformat": 4,
  "nbformat_minor": 0,
  "metadata": {
    "colab": {
      "name": "Classification.ipynb",
      "provenance": [],
      "authorship_tag": "ABX9TyNEACMrVZVQ+/88p+rEPSBc",
      "include_colab_link": true
    },
    "kernelspec": {
      "name": "python3",
      "display_name": "Python 3"
    },
    "language_info": {
      "name": "python"
    }
  },
  "cells": [
    {
      "cell_type": "markdown",
      "metadata": {
        "id": "view-in-github",
        "colab_type": "text"
      },
      "source": [
        "<a href=\"https://colab.research.google.com/github/christoferjulio3/Machine-learning-classification-of-early-twentieth-century-music/blob/main/Classification.ipynb\" target=\"_parent\"><img src=\"https://colab.research.google.com/assets/colab-badge.svg\" alt=\"Open In Colab\"/></a>"
      ]
    },
    {
      "cell_type": "markdown",
      "source": [
        "\n",
        "Machine Learning Classification of Early Twentieth-Century Composers' Music Styles\n",
        "---\n",
        "\n",
        "---\n",
        "\n",
        "\n",
        "\n",
        "\n",
        "The series of codes below are the process of our Machine Learning Classification using both Random Forest Ensemble and Decision Tree Classifier. \n",
        "\n",
        "Data gained from the previous steps are fed into both classifiers - all with 5-fold cross validation. \n",
        "\n",
        "For evaluation matrices, both confusion matrix and classification report (from Scikit-learn) are used for understanding the misclassifications between classes.\n",
        "\n",
        "For visualizing the result, we use SHAP graph for Random Forest Ensemble and graphviz package for Decision Tree.\n",
        "\n",
        "\n",
        "\n",
        "\n",
        "\n"
      ],
      "metadata": {
        "id": "Kz8__TMnTcEX"
      }
    },
    {
      "cell_type": "code",
      "source": [
        "!pip install shap"
      ],
      "metadata": {
        "id": "IcTGZPjnTaQz"
      },
      "execution_count": null,
      "outputs": []
    },
    {
      "cell_type": "code",
      "source": [
        "from collections import OrderedDict\n",
        "from sklearn import tree\n",
        "from sklearn.inspection import permutation_importance\n",
        "from sklearn.model_selection import StratifiedKFold, train_test_split, RandomizedSearchCV, cross_val_score\n",
        "from sklearn.tree import DecisionTreeClassifier\n",
        "from sklearn.ensemble import RandomForestClassifier\n",
        "from sklearn.metrics import accuracy_score, classification_report, confusion_matrix\n",
        "from sklearn.metrics._plot.confusion_matrix import ConfusionMatrixDisplay\n",
        "import matplotlib.pyplot as plt\n",
        "import pydotplus\n",
        "import graphviz\n",
        "import shap\n",
        "import numpy as np\n",
        "import io\n",
        "import pandas as pd\n",
        "\n"
      ],
      "metadata": {
        "id": "Mwz94nhZLMyu"
      },
      "execution_count": 2,
      "outputs": []
    },
    {
      "cell_type": "code",
      "source": [
        "#upload data\n",
        "\n",
        "from google.colab import files\n",
        "uploaded = files. upload()"
      ],
      "metadata": {
        "colab": {
          "resources": {
            "http://localhost:8080/nbextensions/google.colab/files.js": {
              "data": "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",
              "ok": true,
              "headers": [
                [
                  "content-type",
                  "application/javascript"
                ]
              ],
              "status": 200,
              "status_text": ""
            }
          },
          "base_uri": "https://localhost:8080/",
          "height": 72
        },
        "id": "OeE5DwqELOGO",
        "outputId": "9a407bcf-e71f-4984-f0b2-7b0b5637865c"
      },
      "execution_count": 3,
      "outputs": [
        {
          "output_type": "display_data",
          "data": {
            "text/html": [
              "\n",
              "     <input type=\"file\" id=\"files-a6b4e477-ad30-4c0c-bac2-303b9841108a\" name=\"files[]\" multiple disabled\n",
              "        style=\"border:none\" />\n",
              "     <output id=\"result-a6b4e477-ad30-4c0c-bac2-303b9841108a\">\n",
              "      Upload widget is only available when the cell has been executed in the\n",
              "      current browser session. Please rerun this cell to enable.\n",
              "      </output>\n",
              "      <script src=\"/nbextensions/google.colab/files.js\"></script> "
            ],
            "text/plain": [
              "<IPython.core.display.HTML object>"
            ]
          },
          "metadata": {}
        },
        {
          "output_type": "stream",
          "name": "stdout",
          "text": [
            "Saving augmented_features_minmax.csv to augmented_features_minmax.csv\n"
          ]
        }
      ]
    },
    {
      "cell_type": "code",
      "source": [
        "#load data\n",
        "\n",
        "df = pd.read_csv(io.StringIO(uploaded['augmented_features_minmax.csv'].decode('utf-8')))\n",
        "\n",
        "# Remove unused classes\n",
        "\n",
        "df = df[df['styles'] != 'Late Romantic']\n",
        "df = df[df['styles'] != 'Modern']\n",
        "\n",
        "# Randomly sample Nationalism (35% from the all Nationalism's samples)\n",
        "\n",
        "Nat = df[df['styles'] == 'Nationalism']\n",
        "df = df[df['styles'] != 'Nationalism']\n",
        "Nat_random = Nat.sample(frac=0.35)\n",
        "df = df.append(Nat_random)\n",
        "df = df.reset_index()\n",
        "\n",
        "#Change NaN values with zero (if any)\n",
        "\n",
        "df = df.fillna(0)\n",
        "\n",
        "#Dividing the data into features and target\n",
        "\n",
        "data = df.iloc[:, 3:len(df.columns) - 3] # cleaning data\n",
        "\n",
        "# pitch features\n",
        "\n",
        "pitch_histogram = data.iloc[:,0:93]\n",
        "data_pitch= pitch_histogram.iloc[:,88:]\n",
        "\n",
        "# horizontal intervals and their variations\n",
        "\n",
        "horizontal_interval = data.iloc[:,180:219]\n",
        "horizontal_interval_measure = data.iloc[:,232:271]\n",
        "horizontal_interval_no_skip = data.iloc[:,180:193]\n",
        "horizontal_interval_1_skip = data.iloc[:,193:206]\n",
        "horizontal_interval_2_skip = data.iloc[:,206:219]\n",
        "horizontal_interval_measure_no_skip = data.iloc[:,232:245]\n",
        "horizontal_interval_measure_1_skip = data.iloc[:,245:258]\n",
        "horizontal_interval_measure_2_skip = data.iloc[:,258:271]\n",
        "\n",
        "# vertical intervals\n",
        "\n",
        "vertical_interval = data.iloc[:,219:232]\n",
        "\n",
        "# note density\n",
        "\n",
        "density = data.iloc[:,271:291]\n",
        "\n",
        "# mean and max pooling of first 8 measures\n",
        "\n",
        "mean_pool = data.iloc[:,-16:-8]\n",
        "max_pool = data.iloc[:,-8:]\n",
        "\n",
        "# classes\n",
        "\n",
        "target = df['styles']\n",
        "dataset_1 = data\n",
        "dataset_2 = pd.concat([data_pitch, horizontal_interval, horizontal_interval_measure], axis=1)\n",
        "dataset_3 = pd.concat([data_pitch, vertical_interval], axis=1)\n",
        "\n",
        "# Ordinal Encoding for classes\n",
        "\n",
        "target, class_name = pd.factorize(target)\n",
        "target_series = pd.Series(target)"
      ],
      "metadata": {
        "id": "_tizDxkTLRka"
      },
      "execution_count": 4,
      "outputs": []
    },
    {
      "cell_type": "code",
      "source": [
        "#Decision Tree Classifier with 5-Fold Cross Validation\n",
        "\n",
        "X = dataset_1\n",
        "y = target\n",
        "graphs = []\n",
        "model = DecisionTreeClassifier(max_depth=3)\n",
        "\n",
        "accuracy_trainings = []\n",
        "accuracy_tests = []\n",
        "\n",
        "predicted_targets = np.array([])\n",
        "actual_targets = np.array([])\n",
        "\n",
        "#Training data with Stratified 5-fold Cross Validation\n",
        "\n",
        "for train_index, test_index in StratifiedKFold().split(X,y):\n",
        "  \n",
        "  # separating training and test set\n",
        "  \n",
        "  X_train, X_test =  X.iloc[list(train_index)], X.iloc[list(test_index)]\n",
        "  y_train, y_test = y[train_index], y[test_index]\n",
        "  \n",
        "  #training and predict model\n",
        "  \n",
        "  model.fit(X_train, y_train)\n",
        "  predictions = model.predict(X_test)\n",
        "  \n",
        "  report = classification_report(y_test, model.predict(X_test), target_names = class_name)\n",
        "  \n",
        "  accuracy_trainings.append(accuracy_score(y_train, model.predict(X_train)))\n",
        "  accuracy_tests.append(accuracy_score(y_test, predictions))\n",
        "  \n",
        "  predicted_targets = np.append(predicted_targets, predictions)\n",
        "  actual_targets = np.append(actual_targets, y_test)\n",
        "\n",
        "  # Visualize Decision Tree Model of each 5-fold\n",
        "  \n",
        "  dot_data = tree.export_graphviz(model, feature_names= X.columns, \n",
        "                     class_names = class_name, filled=True,\n",
        "                     impurity=True)\n",
        "  graph = graphviz.Source(dot_data)\n",
        "  graphs.append(graph)\n",
        "\n",
        "# Plot a tree with the best accuracy \n",
        "\n",
        "dicts = {accuracy_tests[i]: graphs[i] for i in range(len(accuracy_tests))}\n",
        "sorted_dicts = OrderedDict(sorted(dicts.items()))\n",
        "list(sorted_dicts.values())[-1].render('graph.png', view=True)\n",
        "\n",
        "\n",
        "# Confusion Matrix and Classification Report (Precise, Recall, f1-score)\n",
        "\n",
        "cm = confusion_matrix(actual_targets, predicted_targets)\n",
        "report = classification_report(actual_targets, predicted_targets, target_names =class_name)\n",
        "\n",
        "# Visualizing all results\n",
        "\n",
        "print(accuracy_trainings)\n",
        "print(accuracy_tests)\n",
        "print('training accuracy = {}'.format(np.average(accuracy_trainings)))\n",
        "print('test accuracy = {}'.format(np.average(accuracy_tests)))\n",
        "print(report)\n",
        "\n",
        "disp = ConfusionMatrixDisplay(confusion_matrix=cm, display_labels= class_name) \n",
        "fig, ax = plt.subplots(figsize=(7,6))\n",
        "disp.plot(ax=ax)\n",
        "\n",
        "\n"
      ],
      "metadata": {
        "id": "sjmu6x3bN1s0"
      },
      "execution_count": null,
      "outputs": []
    },
    {
      "cell_type": "code",
      "source": [
        "# Random Forest Ensemble with 5-fold Cross Validation\n",
        "\n",
        "X = dataset_1\n",
        "y = target\n",
        "\n",
        "model = RandomForestClassifier(n_estimators= 72, min_samples_split= 2, min_samples_leaf= 3, max_features= 'auto', max_depth= 3, bootstrap= True)\n",
        "\n",
        "accuracy_tests = []\n",
        "accuracy_trainings= []\n",
        "predicted_targets = np.array([])\n",
        "actual_targets = np.array([])\n",
        "\n",
        "list_shap_values= []\n",
        "list_test_sets = []\n",
        "\n",
        "#Training data with Stratified 5-fold Cross Validation\n",
        "\n",
        "for train_index, test_index in StratifiedKFold(n_splits=5).split(X,y):\n",
        "  X_train, X_test =  X.iloc[list(train_index)], X.iloc[list(test_index)]\n",
        "  y_train, y_test = y[train_index], y[test_index]\n",
        "  \n",
        "  model.fit(X_train, y_train)\n",
        "  predictions = model.predict(X_test)\n",
        "\n",
        "  accuracy_trainings.append(accuracy_score(y_train, model.predict(X_train)))\n",
        "  accuracy_tests.append(accuracy_score(y_test, predictions))\n",
        "\n",
        "  predicted_targets = np.append(predicted_targets, predictions)\n",
        "  actual_targets = np.append(actual_targets, y_test)\n",
        "\n",
        "  # SHAP Values\n",
        "  \n",
        "  explainer = shap.TreeExplainer(model)\n",
        "  shap_values = explainer.shap_values(X_test)\n",
        "  list_shap_values.append(shap_values)\n",
        "  list_test_sets.append(test_index)\n",
        "\n",
        "\n",
        "#combined confusion matrix and classification report\n",
        "\n",
        "cm = confusion_matrix(actual_targets, predicted_targets)\n",
        "report = classification_report(actual_targets, predicted_targets, target_names =class_name)\n",
        "\n",
        "# combining results and plotting SHAP graph\n",
        "\n",
        "test_set = list_test_sets[0]\n",
        "shap_values = np.array(list_shap_values[0])\n",
        "for i in range(1,len(list_test_sets)):\n",
        "    test_set = np.concatenate((test_set,list_test_sets[i]),axis=0)\n",
        "    shap_values = np.concatenate((shap_values,np.array(list_shap_values[i])),axis=1)\n",
        "X_test = pd.DataFrame(X.iloc[list(test_set)],columns=X.columns)\n",
        "\n",
        "# visualizing confusion matrix, accuracy, and classification report\n",
        "\n",
        "print(accuracy_trainings)\n",
        "print(accuracy_tests)\n",
        "print('training accuracy = {}'.format(np.average(accuracy_trainings)))\n",
        "print('test accuracy = {}'.format(np.average(accuracy_tests)))\n",
        "print(report)\n",
        "\n",
        "disp = ConfusionMatrixDisplay(confusion_matrix=cm, display_labels= class_name) \n",
        "fig, ax = plt.subplots(figsize=(7,6))\n",
        "disp.plot(ax=ax)\n"
      ],
      "metadata": {
        "id": "2Olb6yKcOYdZ"
      },
      "execution_count": null,
      "outputs": []
    },
    {
      "cell_type": "code",
      "source": [
        "#Plotting SHAP graph\n",
        "\n",
        "shap.summary_plot(list(shap_values), X_test, class_names=class_name)"
      ],
      "metadata": {
        "id": "dsMK3tkXOrqN"
      },
      "execution_count": null,
      "outputs": []
    }
  ]
}